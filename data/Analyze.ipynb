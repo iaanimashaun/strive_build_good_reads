{
 "cells": [
  {
   "cell_type": "code",
   "execution_count": 1,
   "metadata": {},
   "outputs": [],
   "source": [
    "import pandas as pd\n",
    "import numpy as np"
   ]
  },
  {
   "cell_type": "code",
   "execution_count": 31,
   "metadata": {},
   "outputs": [],
   "source": [
    "data = pd.read_csv(\"analyse_this.csv\")"
   ]
  },
  {
   "cell_type": "code",
   "execution_count": 32,
   "metadata": {},
   "outputs": [
    {
     "data": {
      "text/html": [
       "<div>\n",
       "<style scoped>\n",
       "    .dataframe tbody tr th:only-of-type {\n",
       "        vertical-align: middle;\n",
       "    }\n",
       "\n",
       "    .dataframe tbody tr th {\n",
       "        vertical-align: top;\n",
       "    }\n",
       "\n",
       "    .dataframe thead th {\n",
       "        text-align: right;\n",
       "    }\n",
       "</style>\n",
       "<table border=\"1\" class=\"dataframe\">\n",
       "  <thead>\n",
       "    <tr style=\"text-align: right;\">\n",
       "      <th></th>\n",
       "      <th>url</th>\n",
       "      <th>title</th>\n",
       "      <th>author</th>\n",
       "      <th>num_ratings</th>\n",
       "      <th>avg_rating</th>\n",
       "      <th>awards</th>\n",
       "      <th>original_publish_year</th>\n",
       "      <th>norm_mean</th>\n",
       "      <th>norm_max_min</th>\n",
       "    </tr>\n",
       "  </thead>\n",
       "  <tbody>\n",
       "    <tr>\n",
       "      <th>0</th>\n",
       "      <td>https://www.goodreads.com/book/show/2767052-th...</td>\n",
       "      <td>The Hunger Games</td>\n",
       "      <td>Suzanne Collins</td>\n",
       "      <td>6532119</td>\n",
       "      <td>4</td>\n",
       "      <td>40.0</td>\n",
       "      <td>2008</td>\n",
       "      <td>4.195</td>\n",
       "      <td>10.0</td>\n",
       "    </tr>\n",
       "    <tr>\n",
       "      <th>1</th>\n",
       "      <td>https://www.goodreads.com/book/show/2.Harry_Po...</td>\n",
       "      <td>Harry Potter and the Order of the Phoenix</td>\n",
       "      <td>J.K. Rowling</td>\n",
       "      <td>2580995</td>\n",
       "      <td>4</td>\n",
       "      <td>8.0</td>\n",
       "      <td>2003</td>\n",
       "      <td>4.195</td>\n",
       "      <td>10.0</td>\n",
       "    </tr>\n",
       "    <tr>\n",
       "      <th>2</th>\n",
       "      <td>https://www.goodreads.com/book/show/2657.To_Ki...</td>\n",
       "      <td>To Kill a Mockingbird</td>\n",
       "      <td>Harper Lee</td>\n",
       "      <td>4627182</td>\n",
       "      <td>4</td>\n",
       "      <td>NaN</td>\n",
       "      <td>1960</td>\n",
       "      <td>4.195</td>\n",
       "      <td>10.0</td>\n",
       "    </tr>\n",
       "    <tr>\n",
       "      <th>3</th>\n",
       "      <td>https://www.goodreads.com/book/show/1885.Pride...</td>\n",
       "      <td>Pride and Prejudice</td>\n",
       "      <td>Jane Austen</td>\n",
       "      <td>3086649</td>\n",
       "      <td>4</td>\n",
       "      <td>NaN</td>\n",
       "      <td>1813</td>\n",
       "      <td>4.195</td>\n",
       "      <td>10.0</td>\n",
       "    </tr>\n",
       "    <tr>\n",
       "      <th>4</th>\n",
       "      <td>https://www.goodreads.com/book/show/41865.Twil...</td>\n",
       "      <td>Twilight</td>\n",
       "      <td>Stephenie Meyer</td>\n",
       "      <td>5087005</td>\n",
       "      <td>3</td>\n",
       "      <td>24.0</td>\n",
       "      <td>2005</td>\n",
       "      <td>-4.805</td>\n",
       "      <td>1.0</td>\n",
       "    </tr>\n",
       "  </tbody>\n",
       "</table>\n",
       "</div>"
      ],
      "text/plain": [
       "                                                 url  \\\n",
       "0  https://www.goodreads.com/book/show/2767052-th...   \n",
       "1  https://www.goodreads.com/book/show/2.Harry_Po...   \n",
       "2  https://www.goodreads.com/book/show/2657.To_Ki...   \n",
       "3  https://www.goodreads.com/book/show/1885.Pride...   \n",
       "4  https://www.goodreads.com/book/show/41865.Twil...   \n",
       "\n",
       "                                       title           author  num_ratings  \\\n",
       "0                           The Hunger Games  Suzanne Collins      6532119   \n",
       "1  Harry Potter and the Order of the Phoenix     J.K. Rowling      2580995   \n",
       "2                      To Kill a Mockingbird       Harper Lee      4627182   \n",
       "3                        Pride and Prejudice      Jane Austen      3086649   \n",
       "4                                   Twilight  Stephenie Meyer      5087005   \n",
       "\n",
       "   avg_rating  awards  original_publish_year  norm_mean  norm_max_min  \n",
       "0           4    40.0                   2008      4.195          10.0  \n",
       "1           4     8.0                   2003      4.195          10.0  \n",
       "2           4     NaN                   1960      4.195          10.0  \n",
       "3           4     NaN                   1813      4.195          10.0  \n",
       "4           3    24.0                   2005     -4.805           1.0  "
      ]
     },
     "execution_count": 32,
     "metadata": {},
     "output_type": "execute_result"
    }
   ],
   "source": [
    "data.head()"
   ]
  },
  {
   "cell_type": "code",
   "execution_count": 33,
   "metadata": {},
   "outputs": [],
   "source": []
  },
  {
   "cell_type": "code",
   "execution_count": 40,
   "metadata": {},
   "outputs": [
    {
     "name": "stdout",
     "output_type": "stream",
     "text": [
      "original_publish_year\n",
      "51      10.0\n",
      "1307     1.0\n",
      "1315    10.0\n",
      "1320    10.0\n",
      "1400     1.0\n",
      "        ... \n",
      "6800     1.0\n",
      "9019    10.0\n",
      "9600    10.0\n",
      "9750     1.0\n",
      "9800    10.0\n",
      "Name: norm_max_min, Length: 207, dtype: float64\n"
     ]
    }
   ],
   "source": [
    "df = data.groupby(\"original_publish_year\")[\"norm_max_min\"].mean()\n",
    "print(df)"
   ]
  },
  {
   "cell_type": "code",
   "execution_count": 42,
   "metadata": {},
   "outputs": [
    {
     "name": "stdout",
     "output_type": "stream",
     "text": [
      "original_publish_year\n",
      "51      446608.0\n",
      "1307    252067.0\n",
      "1315    171928.0\n",
      "1320    123877.0\n",
      "1400    191925.0\n",
      "          ...   \n",
      "6800    877135.0\n",
      "9019    109346.0\n",
      "9600    222001.0\n",
      "9750    151439.0\n",
      "9800     64035.0\n",
      "Name: num_ratings, Length: 207, dtype: float64\n"
     ]
    }
   ],
   "source": [
    "df = data.groupby(\"original_publish_year\")[\"num_ratings\"].mean()\n",
    "print(df)"
   ]
  },
  {
   "cell_type": "code",
   "execution_count": null,
   "metadata": {},
   "outputs": [],
   "source": []
  }
 ],
 "metadata": {
  "kernelspec": {
   "display_name": "Python 3",
   "language": "python",
   "name": "python3"
  },
  "language_info": {
   "codemirror_mode": {
    "name": "ipython",
    "version": 3
   },
   "file_extension": ".py",
   "mimetype": "text/x-python",
   "name": "python",
   "nbconvert_exporter": "python",
   "pygments_lexer": "ipython3",
   "version": "3.8.3"
  }
 },
 "nbformat": 4,
 "nbformat_minor": 4
}
