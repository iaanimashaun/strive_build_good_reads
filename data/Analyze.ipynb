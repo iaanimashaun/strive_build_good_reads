{
 "cells": [
  {
   "cell_type": "code",
   "execution_count": 1,
   "metadata": {},
   "outputs": [],
   "source": [
    "import pandas as pd\n",
    "import numpy as np"
   ]
  },
  {
   "cell_type": "code",
   "execution_count": 2,
   "metadata": {},
   "outputs": [],
   "source": [
    "da = pd.read_csv(\"goodreads_min.csv\")"
   ]
  },
  {
   "cell_type": "code",
   "execution_count": 4,
   "metadata": {},
   "outputs": [
    {
     "data": {
      "text/html": [
       "<div>\n",
       "<style scoped>\n",
       "    .dataframe tbody tr th:only-of-type {\n",
       "        vertical-align: middle;\n",
       "    }\n",
       "\n",
       "    .dataframe tbody tr th {\n",
       "        vertical-align: top;\n",
       "    }\n",
       "\n",
       "    .dataframe thead th {\n",
       "        text-align: right;\n",
       "    }\n",
       "</style>\n",
       "<table border=\"1\" class=\"dataframe\">\n",
       "  <thead>\n",
       "    <tr style=\"text-align: right;\">\n",
       "      <th></th>\n",
       "      <th>author</th>\n",
       "      <th>avg_ratings</th>\n",
       "      <th>original_publish_year</th>\n",
       "      <th>title</th>\n",
       "      <th>awards</th>\n",
       "      <th>Root</th>\n",
       "    </tr>\n",
       "  </thead>\n",
       "  <tbody>\n",
       "    <tr>\n",
       "      <th>0</th>\n",
       "      <td>Suzanne Collins</td>\n",
       "      <td>4.33</td>\n",
       "      <td>2008.0</td>\n",
       "      <td>\\r\\n      The Hunger Games\\r\\n</td>\n",
       "      <td>Locus Award Nominee for Best Young Adult Book ...</td>\n",
       "      <td>undefined</td>\n",
       "    </tr>\n",
       "    <tr>\n",
       "      <th>1</th>\n",
       "      <td>J.K. Rowling</td>\n",
       "      <td>4.50</td>\n",
       "      <td>2003.0</td>\n",
       "      <td>\\r\\n      Harry Potter and the Order of the Ph...</td>\n",
       "      <td>Bram Stoker Award for Works for Young Readers ...</td>\n",
       "      <td>undefined</td>\n",
       "    </tr>\n",
       "    <tr>\n",
       "      <th>2</th>\n",
       "      <td>Harper Lee</td>\n",
       "      <td>4.28</td>\n",
       "      <td>1960.0</td>\n",
       "      <td>\\r\\n      To Kill a Mockingbird\\r\\n</td>\n",
       "      <td>NaN</td>\n",
       "      <td>undefined</td>\n",
       "    </tr>\n",
       "    <tr>\n",
       "      <th>3</th>\n",
       "      <td>Jane Austen</td>\n",
       "      <td>4.27</td>\n",
       "      <td>1813.0</td>\n",
       "      <td>\\r\\n      Pride and Prejudice\\r\\n</td>\n",
       "      <td>All Editions\\r\\n\\r\\n | \\r\\n\\r\\nAdd a New Editi...</td>\n",
       "      <td>undefined</td>\n",
       "    </tr>\n",
       "    <tr>\n",
       "      <th>4</th>\n",
       "      <td>Stephenie Meyer</td>\n",
       "      <td>3.60</td>\n",
       "      <td>2005.0</td>\n",
       "      <td>\\r\\n      Twilight\\r\\n</td>\n",
       "      <td>Georgia Peach Book Award (2007), Buxtehuder Bu...</td>\n",
       "      <td>undefined</td>\n",
       "    </tr>\n",
       "  </tbody>\n",
       "</table>\n",
       "</div>"
      ],
      "text/plain": [
       "            author  avg_ratings  original_publish_year  \\\n",
       "0  Suzanne Collins         4.33                 2008.0   \n",
       "1     J.K. Rowling         4.50                 2003.0   \n",
       "2       Harper Lee         4.28                 1960.0   \n",
       "3      Jane Austen         4.27                 1813.0   \n",
       "4  Stephenie Meyer         3.60                 2005.0   \n",
       "\n",
       "                                               title  \\\n",
       "0                     \\r\\n      The Hunger Games\\r\\n   \n",
       "1  \\r\\n      Harry Potter and the Order of the Ph...   \n",
       "2                \\r\\n      To Kill a Mockingbird\\r\\n   \n",
       "3                  \\r\\n      Pride and Prejudice\\r\\n   \n",
       "4                             \\r\\n      Twilight\\r\\n   \n",
       "\n",
       "                                              awards       Root  \n",
       "0  Locus Award Nominee for Best Young Adult Book ...  undefined  \n",
       "1  Bram Stoker Award for Works for Young Readers ...  undefined  \n",
       "2                                                NaN  undefined  \n",
       "3  All Editions\\r\\n\\r\\n | \\r\\n\\r\\nAdd a New Editi...  undefined  \n",
       "4  Georgia Peach Book Award (2007), Buxtehuder Bu...  undefined  "
      ]
     },
     "execution_count": 4,
     "metadata": {},
     "output_type": "execute_result"
    }
   ],
   "source": [
    "da.head()"
   ]
  },
  {
   "cell_type": "code",
   "execution_count": 10,
   "metadata": {},
   "outputs": [
    {
     "ename": "NameError",
     "evalue": "name 'title' is not defined",
     "output_type": "error",
     "traceback": [
      "\u001b[1;31m---------------------------------------------------------------------------\u001b[0m",
      "\u001b[1;31mNameError\u001b[0m                                 Traceback (most recent call last)",
      "\u001b[1;32m<ipython-input-10-5a95514fd031>\u001b[0m in \u001b[0;36m<module>\u001b[1;34m\u001b[0m\n\u001b[1;32m----> 1\u001b[1;33m \u001b[0mda\u001b[0m \u001b[1;33m=\u001b[0m \u001b[0mtitle\u001b[0m\u001b[1;33m.\u001b[0m\u001b[0mgroupby\u001b[0m\u001b[1;33m(\u001b[0m\u001b[1;34m\"original_publish_year\"\u001b[0m\u001b[1;33m)\u001b[0m\u001b[1;33m[\u001b[0m\u001b[1;34m\"minmax_noml_rating\"\u001b[0m\u001b[1;33m]\u001b[0m\u001b[1;33m.\u001b[0m\u001b[0mmean\u001b[0m\u001b[1;33m(\u001b[0m\u001b[1;33m)\u001b[0m\u001b[1;33m\u001b[0m\u001b[1;33m\u001b[0m\u001b[0m\n\u001b[0m",
      "\u001b[1;31mNameError\u001b[0m: name 'title' is not defined"
     ]
    }
   ],
   "source": [
    "da = title.groupby(\"original_publish_year\")[\"minmax_noml_rating\"].mean()"
   ]
  },
  {
   "cell_type": "code",
   "execution_count": null,
   "metadata": {},
   "outputs": [],
   "source": []
  }
 ],
 "metadata": {
  "kernelspec": {
   "display_name": "Python 3",
   "language": "python",
   "name": "python3"
  },
  "language_info": {
   "codemirror_mode": {
    "name": "ipython",
    "version": 3
   },
   "file_extension": ".py",
   "mimetype": "text/x-python",
   "name": "python",
   "nbconvert_exporter": "python",
   "pygments_lexer": "ipython3",
   "version": "3.8.3"
  }
 },
 "nbformat": 4,
 "nbformat_minor": 4
}
